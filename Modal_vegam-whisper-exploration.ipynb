{
 "cells": [
  {
   "cell_type": "markdown",
   "id": "1471e717-e05f-48d2-a063-8c7fb5440adf",
   "metadata": {},
   "source": [
    "# Modal exploration\n",
    "\n",
    "Learning how to code"
   ]
  },
  {
   "cell_type": "code",
   "execution_count": null,
   "id": "932691ad-1d2d-41fd-b0e2-15ca5ac0bcef",
   "metadata": {},
   "outputs": [],
   "source": []
  },
  {
   "cell_type": "code",
   "execution_count": null,
   "id": "b06b7121-8346-481c-89c5-4ab6d68f5106",
   "metadata": {},
   "outputs": [],
   "source": [
    "from modal import Image, Stub, asgi_app, web_endpoint"
   ]
  },
  {
   "cell_type": "code",
   "execution_count": null,
   "id": "7772e15b-226a-43a7-9f56-74849cb6c28a",
   "metadata": {},
   "outputs": [],
   "source": [
    "web_app = FastAPI().apt_install(\"ffmpeg\", \"git-lfs\")\n",
    "stub = Stub(\"example-fastapi-app\")\n",
    "image = Image.debian_slim()"
   ]
  },
  {
   "cell_type": "code",
   "execution_count": null,
   "id": "c75d5743-8689-435a-85cd-a8f2c482ddc7",
   "metadata": {},
   "outputs": [],
   "source": []
  },
  {
   "cell_type": "code",
   "execution_count": null,
   "id": "0a4cdbef-c384-4dad-8aa4-8e093f808e98",
   "metadata": {},
   "outputs": [],
   "source": []
  }
 ],
 "metadata": {
  "kernelspec": {
   "display_name": "python3",
   "language": "python",
   "name": "python3"
  }
 },
 "nbformat": 4,
 "nbformat_minor": 5
}
